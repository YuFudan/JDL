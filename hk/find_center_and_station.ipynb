{
 "cells": [
  {
   "cell_type": "code",
   "execution_count": 4,
   "metadata": {},
   "outputs": [],
   "source": [
    "import folium\n",
    "import time\n",
    "import pandas as pd\n",
    "import numpy as np\n",
    "from tqdm import tqdm\n",
    "from pyproj import Proj\n",
    "from collections import defaultdict\n",
    "from coord_convert.transform import gcj2wgs, wgs2gcj\n",
    "from shapely.geometry import Polygon, Point\n",
    "from shapely.ops import unary_union\n",
    "from shapely.affinity import scale\n",
    "from pprint import pprint\n",
    "projector = Proj(f\"+proj=tmerc +lat_0=39.766541 +lon_0=116.552786\")"
   ]
  },
  {
   "cell_type": "code",
   "execution_count": 7,
   "metadata": {},
   "outputs": [],
   "source": [
    "# 可视化路区, 找一个合适的中心点(大致即可), 作为constants_spatial.py中的LON_CEN, LAT_CEN\n",
    "regions = pd.read_csv(\"orig_data/region.csv\").values\n",
    "\n",
    "m = folium.Map(\n",
    "    location=wgs2gcj(116.552786, 39.766541)[::-1],\n",
    "    control_scale=True,\n",
    "    tiles='http://webrd02.is.autonavi.com/appmaptile?lang=zh_cn&size=1&scale=1&style=8&x={x}&y={y}&z={z}',\n",
    "    attr='高德底图',\n",
    "    zoom_start=13,\n",
    ")\n",
    "m.add_child(folium.LatLngPopup())\n",
    "colors = ['#1f77b4', '#ff7f0e', '#2ca02c', '#d62728', '#9467bd', '#8c564b', '#e377c2', '#7f7f7f', '#bcbd22', '#17becf']\n",
    "polys = []\n",
    "for i, (name, poly) in enumerate(regions):\n",
    "    color = colors[i % len(colors)]\n",
    "    poly = poly[10:-2]\n",
    "    points = [x.split(\" \") for x in poly.split(\", \")]\n",
    "    if name == \"京东贝\":  # 可视化发现这个路区边界有问题, 特殊处理一下\n",
    "        points = points[1:20]\n",
    "        points.append(points[0])\n",
    "    points = [gcj2wgs(float(lon), float(lat)) for lon, lat in points]\n",
    "    assert points[0] == points[-1]\n",
    "    polys.append(Polygon([projector(*p) for p in points]))\n",
    "    folium.Polygon(\n",
    "        locations=[wgs2gcj(*p)[::-1] for p in points],\n",
    "        opacity=0.5,\n",
    "        weight=3,\n",
    "        popup=name,\n",
    "        color=color,\n",
    "        fill=True).add_to(m)\n",
    "    centroid = Polygon(points).representative_point().coords[:][0]\n",
    "    folium.CircleMarker(\n",
    "        location=wgs2gcj(*centroid)[::-1],\n",
    "        opacity=0.8,\n",
    "        radius=3,\n",
    "        fill=True,\n",
    "        popup=name,\n",
    "        color=color).add_to(m)\n",
    "\n",
    "bound = unary_union([scale(p, xfact=1.01, yfact=1.01, origin='centroid') for p in polys])\n",
    "assert isinstance(bound, Polygon)  # 所有路区的总边界\n",
    "folium.PolyLine(\n",
    "    locations=[wgs2gcj(*projector(*p, inverse=True))[::-1] for p in bound.exterior.coords[:]]\n",
    ").add_to(m) \n",
    "m.save(\"figure/find_region_center.html\")"
   ]
  },
  {
   "cell_type": "code",
   "execution_count": null,
   "metadata": {},
   "outputs": [],
   "source": [
    "# LON_CEN, LAT_CEN\n",
    "print(gcj2wgs(116.5622, 39.7874))"
   ]
  },
  {
   "cell_type": "code",
   "execution_count": 4,
   "metadata": {},
   "outputs": [],
   "source": [
    "df = pd.read_csv(\n",
    "    \"orig_data/traj.csv\", \n",
    "    usecols=[\"gps_time\", \"operatorid\", \"gps_lng\", \"gps_lat\"], \n",
    "    dtype={\"gps_time\": str, \"operatorid\": int, \"gps_lng\": float, \"gps_lat\": float})\n",
    "df = df[[\"operatorid\", \"gps_time\", \"gps_lng\", \"gps_lat\"]]\n",
    "df.head(5)\n",
    "lines = df.values.tolist()"
   ]
  },
  {
   "cell_type": "code",
   "execution_count": 12,
   "metadata": {},
   "outputs": [],
   "source": [
    "def tackle_multiple_coord(traj):\n",
    "    \"\"\"处理同时刻多个不同坐标的问题\"\"\"\n",
    "    traj = list(set(traj))\n",
    "    t2xys = defaultdict(list)\n",
    "    for x, y, t in traj:\n",
    "        t2xys[t].append((x, y))\n",
    "    t_xys = list(t2xys.items())\n",
    "    t_xys.sort(key=lambda x: x[0])\n",
    "    traj = []\n",
    "    multiple_cnt= 0\n",
    "    for t, xys in t_xys:\n",
    "        if len(xys) == 1:\n",
    "            traj.append((*xys[0], float(t)))\n",
    "        else:\n",
    "            xs, ys = zip(*xys)\n",
    "            x, y = np.mean(xs), np.mean(ys)  # 取平均坐标\n",
    "            dis = np.mean([((x1 - x) ** 2 + (y1 - y) ** 2) ** 0.5 for x1, y1 in xys])\n",
    "            if dis < 10:\n",
    "                traj.append((x, y, float(t)))\n",
    "            else:\n",
    "                multiple_cnt += 1\n",
    "    return traj, multiple_cnt"
   ]
  },
  {
   "cell_type": "code",
   "execution_count": 19,
   "metadata": {},
   "outputs": [
    {
     "name": "stderr",
     "output_type": "stream",
     "text": [
      "100%|██████████| 23506527/23506527 [24:33<00:00, 15951.05it/s]\n"
     ]
    },
    {
     "name": "stdout",
     "output_type": "stream",
     "text": [
      "22876681 243160\n"
     ]
    }
   ],
   "source": [
    "cid_date_to_traj = defaultdict(list)\n",
    "for cid, t, lon, lat in tqdm(lines):\n",
    "    assert isinstance(cid, int)\n",
    "    assert isinstance(lon, float)\n",
    "    assert isinstance(lat, float)\n",
    "    date = t.split(' ')[0]\n",
    "    t = time.mktime(time.strptime(t, \"%Y-%m-%d %H:%M:%S\")) - \\\n",
    "        time.mktime(time.strptime(date + \" 00:00:00\", \"%Y-%m-%d %H:%M:%S\"))\n",
    "    assert 0 <= t < 86400 and isinstance(t, float)\n",
    "    x, y = projector(*gcj2wgs(lon, lat))\n",
    "    cid_date_to_traj[cid, date].append((x, y, t))\n",
    "multiple_cnt = 0\n",
    "traj_len = 0\n",
    "for (cid, date), traj in cid_date_to_traj.items():\n",
    "    traj, cnt = tackle_multiple_coord(traj)\n",
    "    cid_date_to_traj[cid, date] = traj\n",
    "    multiple_cnt += cnt\n",
    "    traj_len += len(traj)\n",
    "print(traj_len, multiple_cnt)"
   ]
  },
  {
   "cell_type": "code",
   "execution_count": 29,
   "metadata": {},
   "outputs": [
    {
     "name": "stdout",
     "output_type": "stream",
     "text": [
      "135\n"
     ]
    }
   ],
   "source": [
    "# 可视化快递员轨迹, 推断出仓库的位置, 作为constants_spatial.py中的LON_STA, LAT_STA\n",
    "cid2trajs = defaultdict(list)\n",
    "for (c, d), traj in cid_date_to_traj.items():\n",
    "    if len(traj) > 0:\n",
    "        cid2trajs[c].append(traj)\n",
    "print(len(cid2trajs))"
   ]
  },
  {
   "cell_type": "code",
   "execution_count": null,
   "metadata": {},
   "outputs": [],
   "source": [
    "# 快递员数量太多了, 推测是轨迹数据给多了; 看看订单数据里面有多少快递员\n",
    "a = pd.read_csv(\"orig_data/order_2023-02-01_2023-02-28.csv\")\n",
    "b = pd.read_csv(\"orig_data/order_2023-03-01_2023-03-14.csv\")\n",
    "cid_set = set(a[\"operator_id\"]) | set(b[\"operator_id\"])\n",
    "print(len(cid_set))\n",
    "cid2trajs = {k: v for k, v in cid2trajs.items() if k in cid_set}\n",
    "print(len(cid2trajs))"
   ]
  },
  {
   "cell_type": "code",
   "execution_count": null,
   "metadata": {},
   "outputs": [],
   "source": [
    "# 顺手看一下快递员都叫啥名\n",
    "a = pd.read_csv(\"orig_data/order_2023-02-01_2023-02-28.csv\", usecols=[\"operator_id\", \"小哥姓名\"])\n",
    "b = pd.read_csv(\"orig_data/order_2023-03-01_2023-03-14.csv\", usecols=[\"operator_id\", \"小哥姓名\"])\n",
    "cid2names = defaultdict(set)\n",
    "for data in [a, b]:\n",
    "    for cid, name in data.values:\n",
    "        cid2names[int(cid)].add(name)\n",
    "for v in cid2names.values():\n",
    "    assert len(v) == 1\n",
    "cid2names = {cid: list(names)[0] for cid, names in cid2names.items()}\n",
    "pprint(cid2names)"
   ]
  },
  {
   "cell_type": "code",
   "execution_count": 34,
   "metadata": {},
   "outputs": [],
   "source": [
    "m = folium.Map(\n",
    "    location=wgs2gcj(116.552786, 39.766541)[::-1],\n",
    "    control_scale=True,\n",
    "    tiles='http://webrd02.is.autonavi.com/appmaptile?lang=zh_cn&size=1&scale=1&style=8&x={x}&y={y}&z={z}',\n",
    "    attr='高德底图',\n",
    "    zoom_start=13,\n",
    ")\n",
    "m.add_child(folium.LatLngPopup())\n",
    "for i, (cid, trajs) in enumerate(cid2trajs.items()):\n",
    "    color = colors[i % len(colors)]\n",
    "    traj = max(trajs, key=lambda x: len(x))  # 每个小哥画轨迹最多的那天\n",
    "    for x, y, t in traj[::10]:\n",
    "        folium.CircleMarker(\n",
    "            location=wgs2gcj(*projector(x, y, inverse=True))[::-1],\n",
    "            radius=1,\n",
    "            color=color,\n",
    "            opcity=0.1).add_to(m)\n",
    "folium.CircleMarker(\n",
    "    location=[39.767614, 116.558602],  # 高德搜索京东北京鸿坤营业部的结果\n",
    "    radius=10,\n",
    "    color=\"red\").add_to(m)\n",
    "folium.PolyLine(\n",
    "    locations=[wgs2gcj(*projector(*p, inverse=True))[::-1] for p in bound.exterior.coords[:]]\n",
    ").add_to(m)\n",
    "m.save(f\"figure/find_station.html\")"
   ]
  },
  {
   "cell_type": "code",
   "execution_count": null,
   "metadata": {},
   "outputs": [],
   "source": [
    "print(gcj2wgs(116.558602, 39.767614))"
   ]
  }
 ],
 "metadata": {
  "kernelspec": {
   "display_name": "virec",
   "language": "python",
   "name": "python3"
  },
  "language_info": {
   "codemirror_mode": {
    "name": "ipython",
    "version": 3
   },
   "file_extension": ".py",
   "mimetype": "text/x-python",
   "name": "python",
   "nbconvert_exporter": "python",
   "pygments_lexer": "ipython3",
   "version": "3.7.11"
  },
  "orig_nbformat": 4,
  "vscode": {
   "interpreter": {
    "hash": "f72c13f1e864ca183f46ac94d9a1a55c747caf5e7a1efe18001da5f464186032"
   }
  }
 },
 "nbformat": 4,
 "nbformat_minor": 2
}
