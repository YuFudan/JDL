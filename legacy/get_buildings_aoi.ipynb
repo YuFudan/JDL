{
 "cells": [
  {
   "cell_type": "code",
   "execution_count": 38,
   "metadata": {},
   "outputs": [],
   "source": [
    "\"\"\"\n",
    "读取高德给的aoi数据orig_data/buildings.csv\n",
    "去除面积过小的或内部包含了其它aoi的aoi\n",
    "调用百度地图API获得楼名\n",
    "\"\"\"\n",
    "from tqdm import tqdm\n",
    "from pprint import pprint\n",
    "import requests\n",
    "import pickle\n",
    "import folium\n",
    "import random\n",
    "import pandas as pd\n",
    "import matplotlib.pyplot as plt\n",
    "from pyproj import Proj\n",
    "from shapely.geometry import Polygon\n",
    "from eviltransform import gcj2wgs, bd2wgs, bd2gcj, wgs2gcj, wgs2bd\n",
    "random.seed(233)\n",
    "projector = Proj(\"+proj=utm +zone=50 +ellps=WGS84 +datum=WGS84 +units=m +no_defs\")\n",
    "regions = pickle.load(open(\"data/regions_all.pkl\", \"rb\"))\n",
    "WGS = 0\n",
    "GCJ = 1\n",
    "BD = 2"
   ]
  },
  {
   "cell_type": "code",
   "execution_count": 1,
   "metadata": {},
   "outputs": [],
   "source": [
    "user_agents = [\n",
    "    \"Mozilla/5.0 (Windows NT 6.1; WOW64) AppleWebKit/537.36 (KHTML, like Gecko) Chrome/39.0.2171.95 Safari/537.36 OPR/26.0.1656.60\",\n",
    "    \"Opera/8.0 (Windows NT 5.1; U; en)\",\n",
    "    \"Mozilla/5.0 (Windows NT 5.1; U; en; rv:1.8.1) Gecko/20061208 Firefox/2.0.0 Opera 9.50\",\n",
    "    \"Mozilla/4.0 (compatible; MSIE 6.0; Windows NT 5.1; en) Opera 9.50\",\n",
    "    \"Mozilla/5.0 (Windows NT 6.1; WOW64; rv:34.0) Gecko/20100101 Firefox/34.0\",\n",
    "    \"Mozilla/5.0 (X11; U; Linux x86_64; zh-CN; rv:1.9.2.10) Gecko/20100922 Ubuntu/10.10 (maverick) Firefox/3.6.10\",\n",
    "    \"Mozilla/5.0 (Windows NT 6.1; WOW64) AppleWebKit/534.57.2 (KHTML, like Gecko) Version/5.1.7 Safari/534.57.2\",\n",
    "    \"Mozilla/5.0 (Windows NT 6.1; WOW64) AppleWebKit/537.36 (KHTML, like Gecko) Chrome/39.0.2171.71 Safari/537.36\",\n",
    "    \"Mozilla/5.0 (X11; Linux x86_64) AppleWebKit/537.11 (KHTML, like Gecko) Chrome/23.0.1271.64 Safari/537.11\",\n",
    "    \"Mozilla/5.0 (Windows; U; Windows NT 6.1; en-US) AppleWebKit/534.16 (KHTML, like Gecko) Chrome/10.0.648.133 \",\n",
    "    \"Mozilla/5.0 (Windows NT 6.1; WOW64) AppleWebKit/537.36 (KHTML, like Gecko) Chrome/30.0.1599.101 Safari/537.36\",\n",
    "    \"Mozilla/5.0 (Windows NT 6.3; WOW64) AppleWebKit/537.36 (KHTML, like Gecko) Chrome/39.0.2171.95 Safari/537.36\",\n",
    "    \"Mozilla/5.0 (Macintosh; Intel Mac OS X 10_9_2) AppleWebKit/537.36 (KHTML, like Gecko) Chrome/35.0.1916.153 Safari/537.36\",\n",
    "    \"Mozilla/5.0 (Windows NT 6.1; WOW64; rv:30.0) Gecko/20100101 Firefox/30.0\",\n",
    "    \"Mozilla/5.0 (Macintosh; Intel Mac OS X 10_9_2) AppleWebKit/537.75.14 (KHTML, like Gecko) Version/7.0.3 Safari/537.75.14\",\n",
    "    \"Mozilla/5.0 (compatible; MSIE 10.0; Windows NT 6.2; Win64; x64; Trident/6.0)\",\n",
    "    \"Mozilla/5.0 (Windows; U; Windows NT 5.1; it; rv:1.8.1.11) Gecko/20071127 Firefox/2.0.0.11\",\n",
    "    \"Opera/9.25 (Windows NT 5.1; U; en)\",\n",
    "    \"Mozilla/4.0 (compatible; MSIE 6.0; Windows NT 5.1; SV1; .NET CLR 1.1.4322; .NET CLR 2.0.50727)\",\n",
    "    \"Mozilla/5.0 (compatible; Konqueror/3.5; Linux) KHTML/3.5.5 (like Gecko) (Kubuntu)\",\n",
    "    \"Mozilla/5.0 (X11; U; Linux i686; en-US; rv:1.8.0.12) Gecko/20070731 Ubuntu/dapper-security Firefox/1.5.0.12\",\n",
    "    \"Lynx/2.8.5rel.1 libwww-FM/2.14 SSL-MM/1.4.1 GNUTLS/1.2.9\",\n",
    "    \"Mozilla/5.0 (X11; Linux i686) AppleWebKit/535.7 (KHTML, like Gecko) Ubuntu/11.04 Chromium/16.0.912.77 Chrome/16.0.912.77 Safari/535.7\",\n",
    "    \"Mozilla/5.0 (X11; Ubuntu; Linux i686; rv:10.0) Gecko/20100101 Firefox/10.0 \",\n",
    "]"
   ]
  },
  {
   "cell_type": "code",
   "execution_count": 35,
   "metadata": {},
   "outputs": [
    {
     "name": "stdout",
     "output_type": "stream",
     "text": [
      "orig aois: 904\n",
      "after removing small buildings: 873\n",
      "after removing parent buildings: 733\n"
     ]
    }
   ],
   "source": [
    "buildings = []\n",
    "for _, poly, _ in pd.read_csv(\"orig_data/buildings.csv\").values:\n",
    "    poly = poly[10:-2]\n",
    "    points = [x.split(\" \") for x in poly.split(\",\")]\n",
    "    points = [[xx for xx in x if xx] for x in points]\n",
    "    points = [(float(lon), float(lat)) for lon, lat in points]\n",
    "    if points[-1] != points[0]:\n",
    "        points.append(points[0])\n",
    "    buildings.append([gcj2wgs(*p[::-1])[::-1] for p in points])\n",
    "print(\"orig aois:\", len(buildings))\n",
    "\n",
    "tmp = []\n",
    "for i, points in enumerate(buildings):\n",
    "    poly = Polygon([projector(*p) for p in points])\n",
    "    if poly.area > 40:  # 去除面积很小的aoi\n",
    "        gate_xy = poly.centroid\n",
    "        if not gate_xy.within(poly):\n",
    "            gate_xy = poly.representative_point()\n",
    "        gate_xy = gate_xy.coords[:][0]\n",
    "        gate_gps = projector(*gate_xy, inverse=True)\n",
    "        lon, lat = gate_gps\n",
    "        if lon < 116.41891275128775:\n",
    "            task_id = \"金辉\"\n",
    "        elif lat < 39.95802524813388:\n",
    "            task_id = \"锦炜\"\n",
    "        else:\n",
    "            task_id = \"复旦\"\n",
    "        tmp.append({\n",
    "            \"id\": i,\n",
    "            # \"name\": name,\n",
    "            \"points\": points,\n",
    "            \"poly\": poly,\n",
    "            # \"is_elevator\": is_elevator,\n",
    "            \"gate_gps\": gate_gps,\n",
    "            \"gate_xy\": gate_xy,\n",
    "            \"gate_id\": str(i),\n",
    "            \"task_id\": task_id\n",
    "        })\n",
    "buildings = tmp\n",
    "print(\"after removing small buildings:\", len(buildings))\n",
    "\n",
    "all_polys = []\n",
    "is_parent = []\n",
    "for i, bd1 in enumerate(buildings):\n",
    "    poly1 = bd1[\"poly\"]\n",
    "    for j, bd2 in enumerate(buildings):\n",
    "        if j == i:\n",
    "            continue\n",
    "        poly2 = bd2[\"poly\"]\n",
    "        # if poly2.within(poly1):\n",
    "        #     is_parent.append(i)\n",
    "        #     break\n",
    "        if poly2.intersection(poly1).area > poly2.area * 0.7:\n",
    "            is_parent.append(i)\n",
    "            break\n",
    "buildings = [bd for i, bd in enumerate(buildings) if i not in set(is_parent)]\n",
    "print(\"after removing parent buildings:\", len(buildings))\n"
   ]
  },
  {
   "cell_type": "code",
   "execution_count": 36,
   "metadata": {},
   "outputs": [
    {
     "name": "stderr",
     "output_type": "stream",
     "text": [
      "100%|██████████| 733/733 [01:27<00:00,  8.40it/s]"
     ]
    },
    {
     "name": "stdout",
     "output_type": "stream",
     "text": [
      "buildings with name: 607\n"
     ]
    },
    {
     "name": "stderr",
     "output_type": "stream",
     "text": [
      "\n"
     ]
    }
   ],
   "source": [
    "# 百度API\n",
    "user_key = \"9vHb8Vf7LhlWeqh4vuFCafFB9f9dST5t\"\n",
    "radius = 50  # 搜索半径\n",
    "url_base_nearby_search = f\"https://api.map.baidu.com/place/v2/search?&query=住宅&radius={radius}&output=json&ak={user_key}&scope=2&filter=sort_name:distance|sort_rule:1\"\n",
    "cnt = 0\n",
    "for bd in tqdm(buildings):\n",
    "    lon, lat = bd[\"gate_gps\"]\n",
    "    lat, lon = wgs2bd(lat, lon)\n",
    "    t = requests.get(url_base_nearby_search + f\"&location={lat},{lon}\").json()[\"results\"]\n",
    "    if t:\n",
    "        info = t[0]  # results按distance排序, 取最近的作为该aoi的信息\n",
    "        name = info[\"name\"]\n",
    "        cnt += 1\n",
    "    else:\n",
    "        name = \"未知\"\n",
    "    bd[\"name\"] = name\n",
    "print(\"buildings with name:\", cnt)\n"
   ]
  },
  {
   "cell_type": "code",
   "execution_count": 37,
   "metadata": {},
   "outputs": [],
   "source": [
    "for bd in buildings:\n",
    "    del bd[\"poly\"]\n",
    "pickle.dump(buildings, open(\"data/buildings_all.pkl\", \"wb\"))"
   ]
  },
  {
   "cell_type": "code",
   "execution_count": 39,
   "metadata": {},
   "outputs": [],
   "source": [
    "buildings = pickle.load(open(\"data/buildings_all.pkl\", \"rb\"))"
   ]
  },
  {
   "cell_type": "code",
   "execution_count": 40,
   "metadata": {},
   "outputs": [
    {
     "name": "stdout",
     "output_type": "stream",
     "text": [
      "{'gate_gps': (116.41413861354422, 39.956938863260746),\n",
      " 'gate_id': '0',\n",
      " 'gate_xy': (449959.4945745536, 4423142.176433192),\n",
      " 'id': 0,\n",
      " 'name': '和平里二区-1号楼',\n",
      " 'points': [(116.41415407487821, 39.956970990937954),\n",
      "            (116.4142081337361, 39.95697103410792),\n",
      "            (116.41421114479814, 39.95691003891668),\n",
      "            (116.414068990864, 39.956905925814496),\n",
      "            (116.41406597982595, 39.956966921024836),\n",
      "            (116.41415407487821, 39.956970990937954)],\n",
      " 'task_id': '金辉'}\n"
     ]
    }
   ],
   "source": [
    "pprint(buildings[0])"
   ]
  },
  {
   "cell_type": "code",
   "execution_count": 41,
   "metadata": {},
   "outputs": [],
   "source": [
    "G_folium = folium.Map(\n",
    "    location=[39.967691, 116.426234],\n",
    "    control_scale=True,\n",
    "    tiles='http://webrd02.is.autonavi.com/appmaptile?lang=zh_cn&size=1&scale=1&style=8&x={x}&y={y}&z={z}',\n",
    "    attr='高德底图',\n",
    "    zoom_start=20,\n",
    ")\n",
    "for bd in buildings:\n",
    "    if bd[\"task_id\"] == \"复旦\":\n",
    "        color = \"black\"\n",
    "    elif bd[\"task_id\"] == \"金辉\":\n",
    "        color = \"orange\"\n",
    "    elif bd[\"task_id\"] == \"锦炜\":\n",
    "        color = \"royalblue\"\n",
    "    folium.PolyLine(\n",
    "        locations=[wgs2gcj(*p[::-1]) for p in bd[\"points\"]],\n",
    "        opacity=0.8,\n",
    "        weight=3,\n",
    "        popup=(bd[\"id\"], bd[\"name\"]),\n",
    "        color=color\n",
    "    ).add_to(G_folium)\n",
    "    folium.CircleMarker(\n",
    "        location=wgs2gcj(*bd[\"gate_gps\"][::-1]),\n",
    "        opacity=0.8,\n",
    "        radius=2,\n",
    "        fill=True,   \n",
    "        popup=(bd[\"gate_id\"], bd[\"name\"]),\n",
    "        color=color\n",
    "    ).add_to(G_folium)\n",
    "for r in regions:\n",
    "    folium.PolyLine(\n",
    "        locations=[wgs2gcj(*p[::-1]) for p in r[\"boundary\"]],\n",
    "        opacity=0.8,\n",
    "        weight=2,\n",
    "        popup=r[\"rid\"],\n",
    "        color=\"red\",\n",
    "    ).add_to(G_folium)\n",
    "G_folium.save(\"figure/buildings_all.html\")"
   ]
  }
 ],
 "metadata": {
  "kernelspec": {
   "display_name": "Python 3.7.11 ('virec')",
   "language": "python",
   "name": "python3"
  },
  "language_info": {
   "codemirror_mode": {
    "name": "ipython",
    "version": 3
   },
   "file_extension": ".py",
   "mimetype": "text/x-python",
   "name": "python",
   "nbconvert_exporter": "python",
   "pygments_lexer": "ipython3",
   "version": "3.7.11 (default, Jul 27 2021, 14:32:16) \n[GCC 7.5.0]"
  },
  "orig_nbformat": 4,
  "vscode": {
   "interpreter": {
    "hash": "f72c13f1e864ca183f46ac94d9a1a55c747caf5e7a1efe18001da5f464186032"
   }
  }
 },
 "nbformat": 4,
 "nbformat_minor": 2
}
